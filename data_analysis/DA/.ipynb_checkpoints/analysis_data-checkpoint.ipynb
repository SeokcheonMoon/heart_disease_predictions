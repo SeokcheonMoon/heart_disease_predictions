{
 "cells": [
  {
   "cell_type": "code",
   "execution_count": 1,
   "id": "fffcecc2-dd72-47b1-a0eb-a25d6e2c8a2f",
   "metadata": {},
   "outputs": [],
   "source": [
    "import pandas as pd\n",
    "import seaborn as sns\n",
    "import numpy as np\n",
    "import matplotlib.pyplot as plt\n",
    "import matplotlib as mpl\n",
    "# mpl.rc('font', family='NanumBarunGothic') # 혹은 다른 설치한 Nanum 폰트 사용 - 리눅스 사용할때\n",
    "import scipy\n",
    "import scipy.stats as stats\n",
    "\n",
    "import os\n",
    "import re\n",
    "import time\n",
    "import datetime as dt # 사용시 datetime.dt 로 사용 # 현재 시간 사용\n",
    "from datetime import datetime # 사용시 함수로 바로 사용 #-> 시간 비교"
   ]
  },
  {
   "cell_type": "code",
   "execution_count": 2,
   "id": "da217065-0039-490b-bba0-8c7ad8711360",
   "metadata": {},
   "outputs": [],
   "source": [
    "### 한글 폰트 설치 - 윈도우 사용할 때\n",
    "import matplotlib.pyplot as plt\n",
    "from matplotlib import font_manager, rc\n",
    "import platform\n",
    "\n",
    "path = 'c:/Windows/Fonts/malgun.ttf'  # 또는 나눔고딕: 'c:/Windows/Fonts/NanumGothic.ttf'\n",
    "font_name = font_manager.FontProperties(fname=path).get_name()\n",
    "rc('font', family=font_name)"
   ]
  },
  {
   "cell_type": "code",
   "execution_count": 3,
   "id": "bc0b9dd1-1ca6-46d3-825f-ea74f2e828cf",
   "metadata": {},
   "outputs": [],
   "source": [
    "# 경고창 무시\n",
    "import warnings\n",
    "warnings.filterwarnings('ignore')"
   ]
  },
  {
   "cell_type": "markdown",
   "id": "e7a75191-5bdf-420e-830f-28713a16fd3c",
   "metadata": {},
   "source": [
    "## 데이터 전처리"
   ]
  },
  {
   "cell_type": "code",
   "execution_count": 14,
   "id": "b8c4147c-cd72-4066-8d5b-8f4d46ec3769",
   "metadata": {},
   "outputs": [
    {
     "data": {
      "text/html": [
       "<div>\n",
       "<style scoped>\n",
       "    .dataframe tbody tr th:only-of-type {\n",
       "        vertical-align: middle;\n",
       "    }\n",
       "\n",
       "    .dataframe tbody tr th {\n",
       "        vertical-align: top;\n",
       "    }\n",
       "\n",
       "    .dataframe thead th {\n",
       "        text-align: right;\n",
       "    }\n",
       "</style>\n",
       "<table border=\"1\" class=\"dataframe\">\n",
       "  <thead>\n",
       "    <tr style=\"text-align: right;\">\n",
       "      <th></th>\n",
       "      <th>HeartDisease</th>\n",
       "      <th>BMI</th>\n",
       "      <th>Smoking</th>\n",
       "      <th>AlcoholDrinking</th>\n",
       "      <th>Stroke</th>\n",
       "      <th>PhysicalHealth</th>\n",
       "      <th>MentalHealth</th>\n",
       "      <th>DiffWalking</th>\n",
       "      <th>Sex</th>\n",
       "      <th>AgeCategory</th>\n",
       "      <th>Race</th>\n",
       "      <th>Diabetic</th>\n",
       "      <th>PhysicalActivity</th>\n",
       "      <th>GenHealth</th>\n",
       "      <th>SleepTime</th>\n",
       "      <th>Asthma</th>\n",
       "      <th>KidneyDisease</th>\n",
       "      <th>SkinCancer</th>\n",
       "    </tr>\n",
       "  </thead>\n",
       "  <tbody>\n",
       "    <tr>\n",
       "      <th>0</th>\n",
       "      <td>No</td>\n",
       "      <td>16.60</td>\n",
       "      <td>Yes</td>\n",
       "      <td>No</td>\n",
       "      <td>No</td>\n",
       "      <td>3.0</td>\n",
       "      <td>30.0</td>\n",
       "      <td>No</td>\n",
       "      <td>Female</td>\n",
       "      <td>55-59</td>\n",
       "      <td>White</td>\n",
       "      <td>Yes</td>\n",
       "      <td>Yes</td>\n",
       "      <td>Very good</td>\n",
       "      <td>5.0</td>\n",
       "      <td>Yes</td>\n",
       "      <td>No</td>\n",
       "      <td>Yes</td>\n",
       "    </tr>\n",
       "    <tr>\n",
       "      <th>1</th>\n",
       "      <td>No</td>\n",
       "      <td>20.34</td>\n",
       "      <td>No</td>\n",
       "      <td>No</td>\n",
       "      <td>Yes</td>\n",
       "      <td>0.0</td>\n",
       "      <td>0.0</td>\n",
       "      <td>No</td>\n",
       "      <td>Female</td>\n",
       "      <td>80 or older</td>\n",
       "      <td>White</td>\n",
       "      <td>No</td>\n",
       "      <td>Yes</td>\n",
       "      <td>Very good</td>\n",
       "      <td>7.0</td>\n",
       "      <td>No</td>\n",
       "      <td>No</td>\n",
       "      <td>No</td>\n",
       "    </tr>\n",
       "    <tr>\n",
       "      <th>2</th>\n",
       "      <td>No</td>\n",
       "      <td>26.58</td>\n",
       "      <td>Yes</td>\n",
       "      <td>No</td>\n",
       "      <td>No</td>\n",
       "      <td>20.0</td>\n",
       "      <td>30.0</td>\n",
       "      <td>No</td>\n",
       "      <td>Male</td>\n",
       "      <td>65-69</td>\n",
       "      <td>White</td>\n",
       "      <td>Yes</td>\n",
       "      <td>Yes</td>\n",
       "      <td>Fair</td>\n",
       "      <td>8.0</td>\n",
       "      <td>Yes</td>\n",
       "      <td>No</td>\n",
       "      <td>No</td>\n",
       "    </tr>\n",
       "    <tr>\n",
       "      <th>3</th>\n",
       "      <td>No</td>\n",
       "      <td>24.21</td>\n",
       "      <td>No</td>\n",
       "      <td>No</td>\n",
       "      <td>No</td>\n",
       "      <td>0.0</td>\n",
       "      <td>0.0</td>\n",
       "      <td>No</td>\n",
       "      <td>Female</td>\n",
       "      <td>75-79</td>\n",
       "      <td>White</td>\n",
       "      <td>No</td>\n",
       "      <td>No</td>\n",
       "      <td>Good</td>\n",
       "      <td>6.0</td>\n",
       "      <td>No</td>\n",
       "      <td>No</td>\n",
       "      <td>Yes</td>\n",
       "    </tr>\n",
       "    <tr>\n",
       "      <th>4</th>\n",
       "      <td>No</td>\n",
       "      <td>23.71</td>\n",
       "      <td>No</td>\n",
       "      <td>No</td>\n",
       "      <td>No</td>\n",
       "      <td>28.0</td>\n",
       "      <td>0.0</td>\n",
       "      <td>Yes</td>\n",
       "      <td>Female</td>\n",
       "      <td>40-44</td>\n",
       "      <td>White</td>\n",
       "      <td>No</td>\n",
       "      <td>Yes</td>\n",
       "      <td>Very good</td>\n",
       "      <td>8.0</td>\n",
       "      <td>No</td>\n",
       "      <td>No</td>\n",
       "      <td>No</td>\n",
       "    </tr>\n",
       "  </tbody>\n",
       "</table>\n",
       "</div>"
      ],
      "text/plain": [
       "  HeartDisease    BMI Smoking AlcoholDrinking Stroke  PhysicalHealth  \\\n",
       "0           No  16.60     Yes              No     No             3.0   \n",
       "1           No  20.34      No              No    Yes             0.0   \n",
       "2           No  26.58     Yes              No     No            20.0   \n",
       "3           No  24.21      No              No     No             0.0   \n",
       "4           No  23.71      No              No     No            28.0   \n",
       "\n",
       "   MentalHealth DiffWalking     Sex  AgeCategory   Race Diabetic  \\\n",
       "0          30.0          No  Female        55-59  White      Yes   \n",
       "1           0.0          No  Female  80 or older  White       No   \n",
       "2          30.0          No    Male        65-69  White      Yes   \n",
       "3           0.0          No  Female        75-79  White       No   \n",
       "4           0.0         Yes  Female        40-44  White       No   \n",
       "\n",
       "  PhysicalActivity  GenHealth  SleepTime Asthma KidneyDisease SkinCancer  \n",
       "0              Yes  Very good        5.0    Yes            No        Yes  \n",
       "1              Yes  Very good        7.0     No            No         No  \n",
       "2              Yes       Fair        8.0    Yes            No         No  \n",
       "3               No       Good        6.0     No            No        Yes  \n",
       "4              Yes  Very good        8.0     No            No         No  "
      ]
     },
     "execution_count": 14,
     "metadata": {},
     "output_type": "execute_result"
    }
   ],
   "source": [
    "df_heart = pd.read_csv(\"../../dataset/heart_2020_cleaned.csv\")\n",
    "df_heart.head()"
   ]
  },
  {
   "cell_type": "code",
   "execution_count": 5,
   "id": "d7f39861-e6da-43a8-8517-32ff6c6aeaef",
   "metadata": {},
   "outputs": [
    {
     "name": "stdout",
     "output_type": "stream",
     "text": [
      "<class 'pandas.core.frame.DataFrame'>\n",
      "RangeIndex: 319795 entries, 0 to 319794\n",
      "Data columns (total 18 columns):\n",
      " #   Column            Non-Null Count   Dtype  \n",
      "---  ------            --------------   -----  \n",
      " 0   HeartDisease      319795 non-null  object \n",
      " 1   BMI               319795 non-null  float64\n",
      " 2   Smoking           319795 non-null  object \n",
      " 3   AlcoholDrinking   319795 non-null  object \n",
      " 4   Stroke            319795 non-null  object \n",
      " 5   PhysicalHealth    319795 non-null  float64\n",
      " 6   MentalHealth      319795 non-null  float64\n",
      " 7   DiffWalking       319795 non-null  object \n",
      " 8   Sex               319795 non-null  object \n",
      " 9   AgeCategory       319795 non-null  object \n",
      " 10  Race              319795 non-null  object \n",
      " 11  Diabetic          319795 non-null  object \n",
      " 12  PhysicalActivity  319795 non-null  object \n",
      " 13  GenHealth         319795 non-null  object \n",
      " 14  SleepTime         319795 non-null  float64\n",
      " 15  Asthma            319795 non-null  object \n",
      " 16  KidneyDisease     319795 non-null  object \n",
      " 17  SkinCancer        319795 non-null  object \n",
      "dtypes: float64(4), object(14)\n",
      "memory usage: 43.9+ MB\n"
     ]
    }
   ],
   "source": [
    "df_heart.info()"
   ]
  },
  {
   "cell_type": "code",
   "execution_count": 13,
   "id": "354cb65a-7547-4cb2-8826-8562462456f9",
   "metadata": {},
   "outputs": [
    {
     "data": {
      "text/plain": [
       "HeartDisease        0\n",
       "BMI                 0\n",
       "Smoking             0\n",
       "AlcoholDrinking     0\n",
       "Stroke              0\n",
       "PhysicalHealth      0\n",
       "MentalHealth        0\n",
       "DiffWalking         0\n",
       "Sex                 0\n",
       "AgeCategory         0\n",
       "Race                0\n",
       "Diabetic            0\n",
       "PhysicalActivity    0\n",
       "GenHealth           0\n",
       "SleepTime           0\n",
       "Asthma              0\n",
       "KidneyDisease       0\n",
       "SkinCancer          0\n",
       "dtype: int64"
      ]
     },
     "execution_count": 13,
     "metadata": {},
     "output_type": "execute_result"
    }
   ],
   "source": [
    "# 결측값 확인\n",
    "df_heart.isnull().sum()"
   ]
  },
  {
   "cell_type": "code",
   "execution_count": 7,
   "id": "9db54843-f84e-42b1-8910-7aeb7fe0ea76",
   "metadata": {},
   "outputs": [
    {
     "data": {
      "text/html": [
       "<div>\n",
       "<style scoped>\n",
       "    .dataframe tbody tr th:only-of-type {\n",
       "        vertical-align: middle;\n",
       "    }\n",
       "\n",
       "    .dataframe tbody tr th {\n",
       "        vertical-align: top;\n",
       "    }\n",
       "\n",
       "    .dataframe thead th {\n",
       "        text-align: right;\n",
       "    }\n",
       "</style>\n",
       "<table border=\"1\" class=\"dataframe\">\n",
       "  <thead>\n",
       "    <tr style=\"text-align: right;\">\n",
       "      <th></th>\n",
       "      <th>BMI</th>\n",
       "      <th>PhysicalHealth</th>\n",
       "      <th>MentalHealth</th>\n",
       "      <th>SleepTime</th>\n",
       "    </tr>\n",
       "  </thead>\n",
       "  <tbody>\n",
       "    <tr>\n",
       "      <th>count</th>\n",
       "      <td>319795.000000</td>\n",
       "      <td>319795.00000</td>\n",
       "      <td>319795.000000</td>\n",
       "      <td>319795.000000</td>\n",
       "    </tr>\n",
       "    <tr>\n",
       "      <th>mean</th>\n",
       "      <td>28.325399</td>\n",
       "      <td>3.37171</td>\n",
       "      <td>3.898366</td>\n",
       "      <td>7.097075</td>\n",
       "    </tr>\n",
       "    <tr>\n",
       "      <th>std</th>\n",
       "      <td>6.356100</td>\n",
       "      <td>7.95085</td>\n",
       "      <td>7.955235</td>\n",
       "      <td>1.436007</td>\n",
       "    </tr>\n",
       "    <tr>\n",
       "      <th>min</th>\n",
       "      <td>12.020000</td>\n",
       "      <td>0.00000</td>\n",
       "      <td>0.000000</td>\n",
       "      <td>1.000000</td>\n",
       "    </tr>\n",
       "    <tr>\n",
       "      <th>25%</th>\n",
       "      <td>24.030000</td>\n",
       "      <td>0.00000</td>\n",
       "      <td>0.000000</td>\n",
       "      <td>6.000000</td>\n",
       "    </tr>\n",
       "    <tr>\n",
       "      <th>50%</th>\n",
       "      <td>27.340000</td>\n",
       "      <td>0.00000</td>\n",
       "      <td>0.000000</td>\n",
       "      <td>7.000000</td>\n",
       "    </tr>\n",
       "    <tr>\n",
       "      <th>75%</th>\n",
       "      <td>31.420000</td>\n",
       "      <td>2.00000</td>\n",
       "      <td>3.000000</td>\n",
       "      <td>8.000000</td>\n",
       "    </tr>\n",
       "    <tr>\n",
       "      <th>max</th>\n",
       "      <td>94.850000</td>\n",
       "      <td>30.00000</td>\n",
       "      <td>30.000000</td>\n",
       "      <td>24.000000</td>\n",
       "    </tr>\n",
       "  </tbody>\n",
       "</table>\n",
       "</div>"
      ],
      "text/plain": [
       "                 BMI  PhysicalHealth   MentalHealth      SleepTime\n",
       "count  319795.000000    319795.00000  319795.000000  319795.000000\n",
       "mean       28.325399         3.37171       3.898366       7.097075\n",
       "std         6.356100         7.95085       7.955235       1.436007\n",
       "min        12.020000         0.00000       0.000000       1.000000\n",
       "25%        24.030000         0.00000       0.000000       6.000000\n",
       "50%        27.340000         0.00000       0.000000       7.000000\n",
       "75%        31.420000         2.00000       3.000000       8.000000\n",
       "max        94.850000        30.00000      30.000000      24.000000"
      ]
     },
     "execution_count": 7,
     "metadata": {},
     "output_type": "execute_result"
    }
   ],
   "source": [
    "# 이상치 확인 (# BMI: BMI 수치, # PhysicalHealth, MentalHealth: 날짜, SleepTime : 수면시간)\n",
    "df_heart.describe()"
   ]
  },
  {
   "cell_type": "code",
   "execution_count": 10,
   "id": "3f3fb8b1-a136-44f5-a620-183e40bf1d6f",
   "metadata": {},
   "outputs": [
    {
     "data": {
      "text/plain": [
       "<Axes: ylabel='BMI'>"
      ]
     },
     "execution_count": 10,
     "metadata": {},
     "output_type": "execute_result"
    },
    {
     "data": {
      "image/png": "[encoded data removed]",
      "text/plain": [
       "<Figure size 640x480 with 1 Axes>"
      ]
     },
     "metadata": {},
     "output_type": "display_data"
    }
   ],
   "source": [
    "# bmi 컬럼에서 비현실적인 수치가 존재\n",
    "sns.boxplot(data = df_heart[\"BMI\"])"
   ]
  },
  {
   "cell_type": "code",
   "execution_count": 23,
   "id": "ccb41380-4200-4097-bec9-fe4b0e93931a",
   "metadata": {},
   "outputs": [
    {
     "name": "stdout",
     "output_type": "stream",
     "text": [
      "(1) Q1-1.5*IQR 값 : 12.945\n",
      "(2) Q3+1.5*IQR 값 : 42.505\n"
     ]
    }
   ],
   "source": [
    "# BMI 사분위수를 이용한 이상치 제거\n",
    "Q1 = 24.030000\n",
    "Q3 = 31.420000\n",
    "IQR = Q3-Q1\n",
    "print(f\"(1) Q1-1.5*IQR 값 : {Q1-1.5*IQR}\")\n",
    "print(f\"(2) Q3+1.5*IQR 값 : {Q3+1.5*IQR}\")\n",
    "\n",
    "condition_bmi = f\"{Q1-1.5*IQR} <= BMI <= {Q3+1.5*IQR}\""
   ]
  },
  {
   "cell_type": "code",
   "execution_count": null,
   "id": "a91beeca-210b-4cbb-ae47-11e6a56f2328",
   "metadata": {},
   "outputs": [],
   "source": [
    "# 개인 판단 건강정도 - 평균을 기준으로 판단\n",
    "df_heart_stable[\"PhysicalHealth\"].mean(),df_heart_stable[\"MentalHealth\"].mean()"
   ]
  },
  {
   "cell_type": "code",
   "execution_count": 35,
   "id": "d3dbc8ca-5e84-47cf-8bc0-30d5b6581219",
   "metadata": {},
   "outputs": [],
   "source": [
    "# BMI 기준 정의\n",
    "def classify_bmi(bmi):\n",
    "    if bmi < 18.5:\n",
    "        return '저체중'\n",
    "    elif 18.5 <= bmi <= 24.9:\n",
    "        return '정상 체중'\n",
    "    elif 25 <= bmi <= 29.9:\n",
    "        return '과체중'\n",
    "    elif 30 <= bmi <= 34.9:\n",
    "        return '경도 비만'\n",
    "    elif 35 <= bmi <= 39.9:\n",
    "        return '중도 비만'\n",
    "    else:\n",
    "        return '고도 비만'\n",
    "\n",
    "# Sleeping 기준 정의\n",
    "def classify_sleep(hours):\n",
    "    if hours < 6:\n",
    "        return '불면증'\n",
    "    elif 6 <= hours <= 9:\n",
    "        return '정상'\n",
    "    else:\n",
    "        return '과다 수면'\n",
    "\n",
    "# 신체 건강 정도 범주화\n",
    "def classify_physical(value):\n",
    "    if value < 3.24:\n",
    "        return '나쁨'\n",
    "    else:\n",
    "        return '좋음'\n",
    "\n",
    "# 정신 건강 정도 범주화\n",
    "def classify_mental(value):\n",
    "    if value < 3.80:\n",
    "        return '나쁨'\n",
    "    else:\n",
    "        return '좋음'\n",
    "\n",
    "# 나이 범주화\n",
    "def classify_age_category(age_range):\n",
    "    if age_range in ['18-24']:\n",
    "        return '청소년기'\n",
    "    elif age_range in ['25-29', '30-34', '35-39', '40-44', '45-49']:\n",
    "        return '청년기'\n",
    "    elif age_range in ['50-54', '55-59', '60-64', '65-69', '70-74', '75-79', '80 or older']:\n",
    "        return '노년기'\n",
    "\n",
    "# bmi 이상치 제거(df_heart_stable 생성)\n",
    "df_heart_stable = df_heart.query(condition_bmi)\n",
    "\n",
    "df_heart_stable['BMI'] = df_heart_stable['BMI'].apply(classify_bmi)\n",
    "df_heart_stable['SleepTime'] = df_heart_stable['SleepTime'].apply(classify_sleep)\n",
    "df_heart_stable['PhysicalHealth'] = df_heart_stable['PhysicalHealth'].apply(classify_physical)\n",
    "df_heart_stable['MentalHealth'] = df_heart_stable['MentalHealth'].apply(classify_mental)\n",
    "df_heart_stable['AgeCategory'] = df_heart_stable['AgeCategory'].apply(classify_age_category)"
   ]
  },
  {
   "cell_type": "code",
   "execution_count": 39,
   "id": "102087c6-a4d5-4d09-aec9-9c866f8697ad",
   "metadata": {},
   "outputs": [],
   "source": [
    "df_heart_yes = df_heart_stable.query(\"HeartDisease == 'Yes'\")\n",
    "df_heart_no = df_heart_stable.query(\"HeartDisease == 'No'\")"
   ]
  },
  {
   "cell_type": "markdown",
   "id": "9564fbf3-f8e4-4c78-b4b7-1c376ffff574",
   "metadata": {},
   "source": [
    "## 데이터 시각화\n",
    "- 목적 :  각 컬럼별 심장병 유무 지표 확인"
   ]
  },
  {
   "cell_type": "markdown",
   "id": "73c6aa01-a4f7-45b8-934b-c407cd8ee627",
   "metadata": {},
   "source": [
    "### (1) BMI "
   ]
  },
  {
   "cell_type": "code",
   "execution_count": 51,
   "id": "fc445ac6-3f05-4882-a213-206335163910",
   "metadata": {},
   "outputs": [
    {
     "data": {
      "image/png": "[encoded data removed]",
      "text/plain": [
       "<Figure size 1200x600 with 2 Axes>"
      ]
     },
     "metadata": {},
     "output_type": "display_data"
    },
    {
     "data": {
      "text/plain": [
       "<Figure size 640x480 with 0 Axes>"
      ]
     },
     "metadata": {},
     "output_type": "display_data"
    }
   ],
   "source": [
    "# orders 설정\n",
    "orders = ['저체중', '정상 체중', '경도 비만', '중도 비만', '고도 비만']\n",
    "\n",
    "# 그래프 그리기\n",
    "plt.figure(figsize=(12, 6))\n",
    "\n",
    "# 심장병 환자\n",
    "plt.subplot(1, 2, 1)\n",
    "sns.countplot(data=df_heart_yes, x='BMI', order=orders, color='lightcoral')\n",
    "plt.xlabel('BMI')\n",
    "plt.ylabel('Count')\n",
    "plt.title('심장병 환자 BMI')\n",
    "\n",
    "# 정상인\n",
    "plt.subplot(1, 2, 2)\n",
    "sns.countplot(data=df_heart_no, x='BMI', order=orders, color='skyblue')\n",
    "plt.xlabel('BMI')\n",
    "plt.ylabel('Count')\n",
    "plt.title('정상인 BMI')\n",
    "plt.show()\n",
    "\n",
    "plt.tight_layout()  # 서브플롯 간 간격 조절\n",
    "plt.show()"
   ]
  },
  {
   "cell_type": "markdown",
   "id": "35607dbf-9e83-45fb-bc0a-d3498c0aedf1",
   "metadata": {},
   "source": [
    "## (2) 흡연"
   ]
  },
  {
   "cell_type": "code",
   "execution_count": 52,
   "id": "c2307cf1-0b1b-4583-bfc0-f3c67ebbdb30",
   "metadata": {},
   "outputs": [
    {
     "data": {
      "image/png": "[encoded data removed]",
      "text/plain": [
       "<Figure size 1200x600 with 2 Axes>"
      ]
     },
     "metadata": {},
     "output_type": "display_data"
    },
    {
     "data": {
      "text/plain": [
       "<Figure size 640x480 with 0 Axes>"
      ]
     },
     "metadata": {},
     "output_type": "display_data"
    }
   ],
   "source": [
    "# orders 설정\n",
    "orders = [\"Yes\",\"No\"]\n",
    "\n",
    "# 그래프 그리기\n",
    "plt.figure(figsize=(12, 6))\n",
    "\n",
    "# 심장병 환자\n",
    "plt.subplot(1, 2, 1)\n",
    "sns.countplot(data=df_heart_yes, x='Smoking', order=orders, color='lightcoral')\n",
    "plt.xlabel('Smoking')\n",
    "plt.ylabel('Count')\n",
    "plt.title('심장병 환자 흡연 여부')\n",
    "\n",
    "# 정상인\n",
    "plt.subplot(1, 2, 2)\n",
    "sns.countplot(data=df_heart_no, x='Smoking', order=orders, color='skyblue')\n",
    "plt.xlabel('Smoking')\n",
    "plt.ylabel('Count')\n",
    "plt.title('정상인 흡연 여부')\n",
    "plt.show()\n",
    "\n",
    "plt.tight_layout()  # 서브플롯 간 간격 조절\n",
    "plt.show()"
   ]
  },
  {
   "cell_type": "markdown",
   "id": "2d5ee88f-8f65-4165-b497-cad267177b86",
   "metadata": {},
   "source": [
    "## 3. 음주 여부"
   ]
  },
  {
   "cell_type": "markdown",
   "id": "bed93454-e8ae-4398-82bf-0db5f9f7f9dd",
   "metadata": {},
   "source": [
    "## 4. 뇌졸증 여부"
   ]
  },
  {
   "cell_type": "markdown",
   "id": "a218c5ed-2fee-48eb-a140-a90b5e6a5e5e",
   "metadata": {},
   "source": [
    "## 5. 신체적 건강"
   ]
  },
  {
   "cell_type": "markdown",
   "id": "6410446f-c2b8-41cc-8798-0284cd37813b",
   "metadata": {},
   "source": [
    "## 6. 정신적 건강"
   ]
  },
  {
   "cell_type": "markdown",
   "id": "06fa05d9-a51c-42e2-b8b7-3ba38d0c55da",
   "metadata": {},
   "source": [
    "## 7. DiffWalking"
   ]
  },
  {
   "cell_type": "markdown",
   "id": "85890051-f821-44bd-b8d0-6c0af71d3b1c",
   "metadata": {},
   "source": [
    "## 8. 성별"
   ]
  },
  {
   "cell_type": "markdown",
   "id": "384c4acf-6fe9-4260-9807-a8ce7f5924c3",
   "metadata": {},
   "source": [
    "## 9. 연령대"
   ]
  },
  {
   "cell_type": "markdown",
   "id": "af441bda-eb02-44c7-89ba-c5a7698bb350",
   "metadata": {},
   "source": [
    "## 10. 인종"
   ]
  },
  {
   "cell_type": "markdown",
   "id": "3f0df937-8d6b-4105-95fb-6bc8500b75d5",
   "metadata": {},
   "source": [
    "## 11. 당뇨병 여부"
   ]
  },
  {
   "cell_type": "markdown",
   "id": "a14cba90-b579-4350-bc9f-16bbd3798ceb",
   "metadata": {},
   "source": [
    "## 12. 신체 활동"
   ]
  },
  {
   "cell_type": "markdown",
   "id": "d12a7ad8-1948-4e7f-90b8-ad7cdac00bd0",
   "metadata": {},
   "source": [
    "## 13. 유전적"
   ]
  },
  {
   "cell_type": "markdown",
   "id": "7b088f96-2057-414f-ba76-3bda7b2e37fb",
   "metadata": {},
   "source": [
    "## 14. 수면시간"
   ]
  },
  {
   "cell_type": "markdown",
   "id": "602b62c1-d021-4fd2-b81f-ad48c951bd86",
   "metadata": {},
   "source": [
    "## 15. 천식 여부"
   ]
  },
  {
   "cell_type": "markdown",
   "id": "a1b29a0d-773e-4969-ad3a-9fb7ba54212e",
   "metadata": {},
   "source": [
    "## 16. 신장병 여부"
   ]
  },
  {
   "cell_type": "markdown",
   "id": "97ac8dd0-776d-4470-90e1-d8de0a46db72",
   "metadata": {},
   "source": [
    "## 17. 피부암 여부"
   ]
  },
  {
   "cell_type": "code",
   "execution_count": null,
   "id": "6862efd0-6632-4c53-b039-5e26a3c3522f",
   "metadata": {},
   "outputs": [],
   "source": [
    "df_heart.columns"
   ]
  },
  {
   "cell_type": "code",
   "execution_count": null,
   "id": "7716ac9c-84c3-4313-94d1-387d1bffda57",
   "metadata": {},
   "outputs": [],
   "source": []
  }
 ],
 "metadata": {
  "kernelspec": {
   "display_name": "Python 3 (ipykernel)",
   "language": "python",
   "name": "python3"
  },
  "language_info": {
   "codemirror_mode": {
    "name": "ipython",
    "version": 3
   },
   "file_extension": ".py",
   "mimetype": "text/x-python",
   "name": "python",
   "nbconvert_exporter": "python",
   "pygments_lexer": "ipython3",
   "version": "3.11.6"
  }
 },
 "nbformat": 4,
 "nbformat_minor": 5
}
